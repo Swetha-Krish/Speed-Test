{
  "cells": [
    {
      "cell_type": "code",
      "execution_count": null,
      "metadata": {
        "colab": {
          "base_uri": "https://localhost:8080/"
        },
        "id": "V_SU7EnEcsbj",
        "outputId": "995815c7-cf63-4b5e-cfd8-e57732bf732b"
      },
      "outputs": [
        {
          "name": "stdout",
          "output_type": "stream",
          "text": [
            "Collecting speedtest-cli\n",
            "  Downloading speedtest_cli-2.1.3-py2.py3-none-any.whl.metadata (6.8 kB)\n",
            "Downloading speedtest_cli-2.1.3-py2.py3-none-any.whl (23 kB)\n",
            "Installing collected packages: speedtest-cli\n",
            "Successfully installed speedtest-cli-2.1.3\n"
          ]
        }
      ],
      "source": [
        "#! pip install speedtest-cli"
      ]
    },
    {
      "cell_type": "code",
      "execution_count": null,
      "metadata": {
        "id": "cKu-re9CXb-f"
      },
      "outputs": [],
      "source": [
        "from datetime import datetime, timedelta\n",
        "import time\n",
        "import speedtest\n",
        "import csv"
      ]
    },
    {
      "cell_type": "code",
      "execution_count": null,
      "metadata": {
        "id": "EXKy9xL8cZLG"
      },
      "outputs": [],
      "source": [
        "STATUS_OUTPUT_FILE = './output/status.txt'  # File to output script status\n",
        "DATA_FILE = './output/output_file.csv'  # File to store .csv data\n",
        "SECONDS_BETWEEN_LOOPS = 1  # Interval between checking time slots (not for testing itself)\n"
      ]
    },
    {
      "cell_type": "code",
      "execution_count": null,
      "metadata": {
        "id": "TtDeH7ohcZMj"
      },
      "outputs": [],
      "source": [
        "# Outputs current status to txt file\n",
        "def write_status(output_file, output):\n",
        "    with open(output_file, 'a') as writer:\n",
        "        writer.write(output)"
      ]
    },
    {
      "cell_type": "code",
      "execution_count": null,
      "metadata": {
        "id": "KKyngu3OcZPi"
      },
      "outputs": [],
      "source": [
        "# Run the test_speed() function at every quarter of the hour precisely.\n",
        "def timed_sample_output():\n",
        "    times = ['00', '15', '30', '60']  # List of quarter-hours\n",
        "\n",
        "    while True:  # Loop to continually test current time against quarter-hours\n",
        "        current_time = datetime.now().strftime('%H:%M')\n",
        "        for quarter in times:\n",
        "            if current_time[3:5] == quarter:\n",
        "                test_speed(current_time)\n",
        "                # Sleep until the next quarter-hour time, so we don't test too frequently\n",
        "                next_quarter_time = (datetime.now() + timedelta(minutes=15)).replace(second=0, microsecond=0)\n",
        "                sleep_time = (next_quarter_time - datetime.now()).total_seconds()\n",
        "                time.sleep(sleep_time)\n",
        "                break\n",
        "        time.sleep(SECONDS_BETWEEN_LOOPS)\n"
      ]
    },
    {
      "cell_type": "code",
      "execution_count": null,
      "metadata": {
        "id": "PCG94vcccZUX"
      },
      "outputs": [],
      "source": [
        "def test_speed(curr_time):\n",
        "    \"\"\"Takes a sample of internet connection Down/Up speeds and puts the results in a dictionary.\n",
        "    Outputs the results of each test onto console.\"\"\"\n",
        "    SPEED_DIVISOR = 1000000  # for converting bits per second into Mbps\n",
        "\n",
        "    s = speedtest.Speedtest()\n",
        "    try:\n",
        "        download_time = s.download()\n",
        "        upload_time = s.upload()\n",
        "    except Exception as e:\n",
        "        write_status(STATUS_OUTPUT_FILE, f\"Error during speed test at {curr_time}: {e}\\n\")\n",
        "        return\n",
        "\n",
        "    today = datetime.now().date()\n",
        "    output = {\n",
        "        \"Date\": today,\n",
        "        \"Time\": curr_time,\n",
        "        \"Download\": round((download_time / SPEED_DIVISOR), 2),\n",
        "        \"Upload\": round((upload_time / SPEED_DIVISOR), 2)\n",
        "    }\n",
        "    write_status(STATUS_OUTPUT_FILE, f\"Trial for time: {curr_time} completed\\n{output}\\n\")\n",
        "    write_to_file(output)\n"
      ]
    },
    {
      "cell_type": "code",
      "execution_count": null,
      "metadata": {
        "id": "EoCmAEOmXcDI"
      },
      "outputs": [],
      "source": [
        "# Takes a test conducted by test_speed() and stores it in a CSV file.\n",
        "def write_to_file(output):\n",
        "    \"\"\"Write the result of the speed test to a CSV file.\"\"\"\n",
        "    try:\n",
        "        with open(DATA_FILE, 'a', newline='') as write_file:\n",
        "            columns = ['Date', 'Time', 'Download', 'Upload']\n",
        "            writer = csv.DictWriter(write_file, fieldnames=columns)\n",
        "            # Write the header only once when the file is created (if needed)\n",
        "            if write_file.tell() == 0:  # Check if file is empty\n",
        "                writer.writeheader()\n",
        "            writer.writerow(output)\n",
        "    except Exception as e:\n",
        "        write_status(STATUS_OUTPUT_FILE, f\"Error writing to CSV: {e}\\n\")"
      ]
    },
    {
      "cell_type": "code",
      "execution_count": null,
      "metadata": {
        "colab": {
          "base_uri": "https://localhost:8080/",
          "height": 297
        },
        "id": "pC4rp6HNXcHu",
        "outputId": "227bc757-d148-477e-e2a6-acaa60d45200"
      },
      "outputs": [
        {
          "ename": "KeyboardInterrupt",
          "evalue": "",
          "output_type": "error",
          "traceback": [
            "\u001b[0;31m---------------------------------------------------------------------------\u001b[0m",
            "\u001b[0;31mKeyboardInterrupt\u001b[0m                         Traceback (most recent call last)",
            "\u001b[0;32m<ipython-input-10-3386625c563d>\u001b[0m in \u001b[0;36m<cell line: 0>\u001b[0;34m()\u001b[0m\n\u001b[1;32m      1\u001b[0m \u001b[0;34m'''Run the program!'''\u001b[0m\u001b[0;34m\u001b[0m\u001b[0;34m\u001b[0m\u001b[0m\n\u001b[1;32m      2\u001b[0m \u001b[0;32mif\u001b[0m \u001b[0m__name__\u001b[0m \u001b[0;34m==\u001b[0m \u001b[0;34m\"__main__\"\u001b[0m\u001b[0;34m:\u001b[0m\u001b[0;34m\u001b[0m\u001b[0;34m\u001b[0m\u001b[0m\n\u001b[0;32m----> 3\u001b[0;31m     \u001b[0mtimed_sample_output\u001b[0m\u001b[0;34m(\u001b[0m\u001b[0;34m)\u001b[0m\u001b[0;34m\u001b[0m\u001b[0;34m\u001b[0m\u001b[0m\n\u001b[0m",
            "\u001b[0;32m<ipython-input-7-1e4b7d0f86de>\u001b[0m in \u001b[0;36mtimed_sample_output\u001b[0;34m()\u001b[0m\n\u001b[1;32m     11\u001b[0m                 \u001b[0mnext_quarter_time\u001b[0m \u001b[0;34m=\u001b[0m \u001b[0;34m(\u001b[0m\u001b[0mdatetime\u001b[0m\u001b[0;34m.\u001b[0m\u001b[0mnow\u001b[0m\u001b[0;34m(\u001b[0m\u001b[0;34m)\u001b[0m \u001b[0;34m+\u001b[0m \u001b[0mtimedelta\u001b[0m\u001b[0;34m(\u001b[0m\u001b[0mminutes\u001b[0m\u001b[0;34m=\u001b[0m\u001b[0;36m15\u001b[0m\u001b[0;34m)\u001b[0m\u001b[0;34m)\u001b[0m\u001b[0;34m.\u001b[0m\u001b[0mreplace\u001b[0m\u001b[0;34m(\u001b[0m\u001b[0msecond\u001b[0m\u001b[0;34m=\u001b[0m\u001b[0;36m0\u001b[0m\u001b[0;34m,\u001b[0m \u001b[0mmicrosecond\u001b[0m\u001b[0;34m=\u001b[0m\u001b[0;36m0\u001b[0m\u001b[0;34m)\u001b[0m\u001b[0;34m\u001b[0m\u001b[0;34m\u001b[0m\u001b[0m\n\u001b[1;32m     12\u001b[0m                 \u001b[0msleep_time\u001b[0m \u001b[0;34m=\u001b[0m \u001b[0;34m(\u001b[0m\u001b[0mnext_quarter_time\u001b[0m \u001b[0;34m-\u001b[0m \u001b[0mdatetime\u001b[0m\u001b[0;34m.\u001b[0m\u001b[0mnow\u001b[0m\u001b[0;34m(\u001b[0m\u001b[0;34m)\u001b[0m\u001b[0;34m)\u001b[0m\u001b[0;34m.\u001b[0m\u001b[0mtotal_seconds\u001b[0m\u001b[0;34m(\u001b[0m\u001b[0;34m)\u001b[0m\u001b[0;34m\u001b[0m\u001b[0;34m\u001b[0m\u001b[0m\n\u001b[0;32m---> 13\u001b[0;31m                 \u001b[0mtime\u001b[0m\u001b[0;34m.\u001b[0m\u001b[0msleep\u001b[0m\u001b[0;34m(\u001b[0m\u001b[0msleep_time\u001b[0m\u001b[0;34m)\u001b[0m\u001b[0;34m\u001b[0m\u001b[0;34m\u001b[0m\u001b[0m\n\u001b[0m\u001b[1;32m     14\u001b[0m                 \u001b[0;32mbreak\u001b[0m\u001b[0;34m\u001b[0m\u001b[0;34m\u001b[0m\u001b[0m\n\u001b[1;32m     15\u001b[0m         \u001b[0mtime\u001b[0m\u001b[0;34m.\u001b[0m\u001b[0msleep\u001b[0m\u001b[0;34m(\u001b[0m\u001b[0mSECONDS_BETWEEN_LOOPS\u001b[0m\u001b[0;34m)\u001b[0m\u001b[0;34m\u001b[0m\u001b[0;34m\u001b[0m\u001b[0m\n",
            "\u001b[0;31mKeyboardInterrupt\u001b[0m: "
          ]
        }
      ],
      "source": [
        "'''Run the program!'''\n",
        "if __name__ == \"__main__\":\n",
        "    timed_sample_output()"
      ]
    }
  ],
  "metadata": {
    "colab": {
      "provenance": []
    },
    "kernelspec": {
      "display_name": "Python 3",
      "name": "python3"
    },
    "language_info": {
      "name": "python"
    }
  },
  "nbformat": 4,
  "nbformat_minor": 0
}
